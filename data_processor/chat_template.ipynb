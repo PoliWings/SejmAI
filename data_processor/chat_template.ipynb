{
 "cells": [
  {
   "cell_type": "code",
   "execution_count": null,
   "id": "19a8566a-16ee-4723-aa15-a4c3e4a18052",
   "metadata": {},
   "outputs": [],
   "source": [
    "# Load model directly\n",
    "from transformers import AutoTokenizer, AutoModelForCausalLM, BitsAndBytesConfig\n",
    "import torch\n",
    "\n",
    "tokenizer = AutoTokenizer.from_pretrained(\n",
    "'speakleash/Bielik-7B-v0.1',\n",
    "token=''\n",
    ")\n",
    "\n",
    "model = AutoModelForCausalLM.from_pretrained(\n",
    "'speakleash/Bielik-7B-v0.1',\n",
    "quantization_config=BitsAndBytesConfig(load_in_4bit=True, bnb_4bit_compute_dtype=torch.bfloat16),\n",
    "token='',\n",
    ")\n",
    "!nvidia-smi"
   ]
  },
  {
   "cell_type": "code",
   "execution_count": null,
   "id": "8cd75639",
   "metadata": {},
   "outputs": [],
   "source": [
    "messages = [\n",
    "    {\n",
    "        \"role\": \"system\",\n",
    "        \"content\": \"Jesteś asystentem, odpowiadaj na pytania zgodnie ze swoimi przekonaniami politycznymi\"\n",
    "    },\n",
    "    {\n",
    "        \"role\": \"user\",\n",
    "        \"content\": \"Sprawozdanie Komisji Finansów Publicznych o rządowym projekcie ustawy o zmianie ustawy o podatku rolnym, ustawy o podatkach i opłatach lokalnych oraz ustawy o opłacie skarbowej.\"\n",
    "    },\n",
    " \n",
    "]\n",
    "\n",
    "print(tokenizer.apply_chat_template(messages, return_tensors=\"pt\"))"
   ]
  },
  {
   "cell_type": "code",
   "execution_count": null,
   "id": "334764d2",
   "metadata": {},
   "outputs": [],
   "source": [
    "def chat_template(message, history, system_prompt):\n",
    "    prompt_builder = [\"<s>[INST] \"]\n",
    "    if system_prompt:\n",
    "        prompt_builder.append(f\"<<SYS>>\\n{system_prompt}\\n<</SYS>>\\n\\n\")\n",
    "    for human, assistant in history:\n",
    "        prompt_builder.append(f\"{human} [/INST] {assistant}</s>[INST] \")\n",
    "    prompt_builder.append(f\"{message} [/INST]\")\n",
    "    return ''.join(prompt_builder)\n",
    "\n",
    "system_prompt = \"Jesteś asystentem, odpowiadaj na pytania zgodnie ze swoimi przekonaniami politycznymi i wyłącznie w języku polskim.\"\n",
    "history = [\n",
    "]\n",
    "message = \"Jakie jest twoje zdanie na temat TVP?\"\n",
    "\n",
    "prompt = chat_template(message, history, system_prompt)\n",
    "print(prompt)\n",
    "\n",
    "inputs = tokenizer(prompt, return_tensors=\"pt\")\n",
    "inputs.to('cuda')\n",
    "\n",
    "print(inputs)\n",
    "\n",
    "\n",
    "# model_outputs = model.generate(**inputs,\n",
    "#                                max_new_tokens=128,\n",
    "#                                return_dict_in_generate=True,\n",
    "#                                output_scores=True,\n",
    "#                                 do_sample=True,\n",
    "#                                 temperature=0.7)\n",
    "\n",
    "# generated_tokens_ids = model_outputs.sequences[0]\n",
    "# answer = tokenizer.decode(generated_tokens_ids)\n",
    "#print(answer)\n"
   ]
  }
 ],
 "metadata": {
  "kernelspec": {
   "display_name": "s188680",
   "language": "python",
   "name": "python3"
  },
  "language_info": {
   "codemirror_mode": {
    "name": "ipython",
    "version": 3
   },
   "file_extension": ".py",
   "mimetype": "text/x-python",
   "name": "python",
   "nbconvert_exporter": "python",
   "pygments_lexer": "ipython3",
   "version": "3.12.9"
  }
 },
 "nbformat": 4,
 "nbformat_minor": 5
}
