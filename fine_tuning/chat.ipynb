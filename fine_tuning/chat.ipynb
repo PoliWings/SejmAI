{
 "cells": [
  {
   "cell_type": "code",
   "execution_count": null,
   "metadata": {},
   "outputs": [],
   "source": [
    "import torch\n",
    "from transformers import AutoTokenizer, AutoModelForCausalLM, BitsAndBytesConfig\n",
    "from peft import PeftModel\n",
    "\n",
    "model_name = \"speakleash/Bielik-11B-v2.2-Instruct\"\n",
    "\n",
    "bnb_config = BitsAndBytesConfig(\n",
    "    load_in_4bit=True,\n",
    "    bnb_4bit_compute_dtype=torch.float16\n",
    ")\n",
    "\n",
    "tokenizer = AutoTokenizer.from_pretrained(model_name)\n",
    "model = AutoModelForCausalLM.from_pretrained(\n",
    "    model_name,\n",
    "    quantization_config=bnb_config\n",
    ")\n",
    "model.to(\"cuda\")"
   ]
  },
  {
   "cell_type": "code",
   "execution_count": null,
   "metadata": {},
   "outputs": [],
   "source": [
    "peft_model_name = \"alignment-handbook/zephyr-7b-sft-qlora\"\n",
    "peft_tokenizer = AutoTokenizer.from_pretrained(peft_model_name)\n",
    "peft_model = PeftModel.from_pretrained(model, peft_model_name)\n",
    "peft_model.to(\"cuda\")"
   ]
  },
  {
   "cell_type": "code",
   "execution_count": null,
   "metadata": {},
   "outputs": [],
   "source": [
    "chat = [\n",
    "    {\"role\": \"system\", \"content\": \"Jesteś pomocnym asystentem, który posiada własne poglądy polityczne i odpowiada tylko po polsku.\"}\n",
    "]\n",
    "\n",
    "while True:\n",
    "    prompt = input(\"Next instruction\").strip()\n",
    "    if not prompt:\n",
    "        break\n",
    "    chat.append({\"role\": \"user\", \"content\": prompt})\n",
    "    \n",
    "    chat_input = peft_tokenizer.apply_chat_template(\n",
    "        chat,\n",
    "        add_generation_prompt=True,\n",
    "        return_tensors=\"pt\"\n",
    "    ).to(\"cuda\")\n",
    "    \n",
    "    peft_output = peft_model.generate(\n",
    "        chat_input, \n",
    "        max_new_tokens=256,\n",
    "        return_dict_in_generate=True,\n",
    "        output_scores=True,\n",
    "        pad_token_id=tokenizer.eos_token_id\n",
    "    )\n",
    "    response = tokenizer.decode(peft_output.sequences[0], skip_special_tokens=True)\n",
    "    output = response.split(\"<|assistant|>\\n\")[-1]\n",
    "    print(\"\\nGenerated Response:\", output)\n",
    "    chat.append({\"role\": \"assistant\", \"content\": output})"
   ]
  }
 ],
 "metadata": {
  "kernelspec": {
   "display_name": "sejm",
   "language": "python",
   "name": "python3"
  },
  "language_info": {
   "codemirror_mode": {
    "name": "ipython",
    "version": 3
   },
   "file_extension": ".py",
   "mimetype": "text/x-python",
   "name": "python",
   "nbconvert_exporter": "python",
   "pygments_lexer": "ipython3",
   "version": "3.10.16"
  }
 },
 "nbformat": 4,
 "nbformat_minor": 4
}
